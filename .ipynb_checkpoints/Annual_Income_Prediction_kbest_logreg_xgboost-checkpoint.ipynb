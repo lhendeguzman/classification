{
 "cells": [
  {
   "cell_type": "code",
   "execution_count": 0,
   "metadata": {
    "colab": {},
    "colab_type": "code",
    "id": "-ttO3rdbNE1Y"
   },
   "outputs": [],
   "source": [
    "# IMPORT GENERIC PACKAGES\n",
    "import numpy as np # numerical calc package\n",
    "import pandas as pd # holds data\n",
    "import matplotlib.pyplot as plt # plotting library\n",
    "import seaborn as sns # pretty plotting\n",
    "import pandas_profiling as pp\n",
    "\n",
    "sns.set(rc={'figure.figsize':(20,10)})\n",
    "\n",
    "from sklearn.model_selection import train_test_split # split dataset\n",
    "from sklearn.linear_model import LogisticRegression # linear model for classification\n",
    "from sklearn.metrics import confusion_matrix\n",
    "from sklearn.datasets import load_digits\n",
    "from sklearn.feature_selection import SelectKBest, chi2\n",
    "from sklearn.metrics import classification_report\n",
    "from xgboost import XGBClassifier"
   ]
  },
  {
   "cell_type": "code",
   "execution_count": 0,
   "metadata": {
    "colab": {},
    "colab_type": "code",
    "id": "uNVHmdHvWUfs"
   },
   "outputs": [],
   "source": [
    "data = pd.read_csv('census.csv')"
   ]
  },
  {
   "cell_type": "code",
   "execution_count": 0,
   "metadata": {
    "colab": {
     "base_uri": "https://localhost:8080/",
     "height": 272
    },
    "colab_type": "code",
    "id": "IPimsw4IbLy6",
    "outputId": "d2a0a159-fdd8-427f-a225-68bc67f708cb"
   },
   "outputs": [
    {
     "data": {
      "text/plain": [
       "age                  int64\n",
       "workclass           object\n",
       "education_level     object\n",
       "education-num      float64\n",
       "marital-status      object\n",
       "occupation          object\n",
       "relationship        object\n",
       "race                object\n",
       "sex                 object\n",
       "capital-gain       float64\n",
       "capital-loss       float64\n",
       "hours-per-week     float64\n",
       "native-country      object\n",
       "income              object\n",
       "dtype: object"
      ]
     },
     "execution_count": 216,
     "metadata": {
      "tags": []
     },
     "output_type": "execute_result"
    }
   ],
   "source": [
    "data.shape\n",
    "data.dtypes"
   ]
  },
  {
   "cell_type": "code",
   "execution_count": 0,
   "metadata": {
    "colab": {
     "base_uri": "https://localhost:8080/",
     "height": 255
    },
    "colab_type": "code",
    "id": "56FEmINmcWlD",
    "outputId": "68e33a4d-6f3e-4c64-d78b-acab4000b3c2"
   },
   "outputs": [
    {
     "data": {
      "text/plain": [
       "<bound method NDFrame.head of        age          workclass  ...  native-country  income\n",
       "0       39          State-gov  ...   United-States   <=50K\n",
       "1       50   Self-emp-not-inc  ...   United-States   <=50K\n",
       "2       38            Private  ...   United-States   <=50K\n",
       "3       53            Private  ...   United-States   <=50K\n",
       "4       28            Private  ...            Cuba   <=50K\n",
       "...    ...                ...  ...             ...     ...\n",
       "45217   33            Private  ...   United-States   <=50K\n",
       "45218   39            Private  ...   United-States   <=50K\n",
       "45219   38            Private  ...   United-States   <=50K\n",
       "45220   44            Private  ...   United-States   <=50K\n",
       "45221   35       Self-emp-inc  ...   United-States    >50K\n",
       "\n",
       "[45222 rows x 14 columns]>"
      ]
     },
     "execution_count": 203,
     "metadata": {
      "tags": []
     },
     "output_type": "execute_result"
    }
   ],
   "source": [
    "data.head"
   ]
  },
  {
   "cell_type": "code",
   "execution_count": 0,
   "metadata": {
    "colab": {
     "base_uri": "https://localhost:8080/",
     "height": 102
    },
    "colab_type": "code",
    "id": "93SGR20ycZ9_",
    "outputId": "c9e8dacf-2790-4a5c-c287-7df28df62e2e"
   },
   "outputs": [
    {
     "data": {
      "text/plain": [
       "Index(['age', 'workclass', 'education_level', 'education-num',\n",
       "       'marital-status', 'occupation', 'relationship', 'race', 'sex',\n",
       "       'capital-gain', 'capital-loss', 'hours-per-week', 'native-country',\n",
       "       'income'],\n",
       "      dtype='object')"
      ]
     },
     "execution_count": 204,
     "metadata": {
      "tags": []
     },
     "output_type": "execute_result"
    }
   ],
   "source": [
    "data.columns"
   ]
  },
  {
   "cell_type": "code",
   "execution_count": 0,
   "metadata": {
    "colab": {
     "base_uri": "https://localhost:8080/",
     "height": 34
    },
    "colab_type": "code",
    "id": "uPj6-tKzaTSf",
    "outputId": "8ef8b18a-256c-47dd-fa98-8b1d5463d807"
   },
   "outputs": [
    {
     "data": {
      "text/plain": [
       "(45222, 14)"
      ]
     },
     "execution_count": 205,
     "metadata": {
      "tags": []
     },
     "output_type": "execute_result"
    }
   ],
   "source": [
    "# write list of features we want to use\n",
    "features = ['age', 'workclass', 'education_level', 'education-num',\n",
    "       'marital-status', 'occupation', 'relationship', 'race', 'sex',\n",
    "       'capital-gain', 'capital-loss', 'hours-per-week', 'native-country']\n",
    "\n",
    "# Set X\n",
    "X = data[features]\n",
    "\n",
    "# Convert text to numeric\n",
    "X = pd.get_dummies(X)\n",
    "\n",
    "# Set y\n",
    "y = data[\"income\"]\n",
    "data.shape"
   ]
  },
  {
   "cell_type": "code",
   "execution_count": 0,
   "metadata": {
    "colab": {
     "base_uri": "https://localhost:8080/",
     "height": 221
    },
    "colab_type": "code",
    "id": "u6hT579PX8WF",
    "outputId": "4ca946dc-35f2-4909-a4cd-796518674699"
   },
   "outputs": [
    {
     "data": {
      "text/plain": [
       "age                                  int64\n",
       "education-num                      float64\n",
       "capital-gain                       float64\n",
       "capital-loss                       float64\n",
       "hours-per-week                     float64\n",
       "                                    ...   \n",
       "native-country_ Thailand             uint8\n",
       "native-country_ Trinadad&Tobago      uint8\n",
       "native-country_ United-States        uint8\n",
       "native-country_ Vietnam              uint8\n",
       "native-country_ Yugoslavia           uint8\n",
       "Length: 103, dtype: object"
      ]
     },
     "execution_count": 223,
     "metadata": {
      "tags": []
     },
     "output_type": "execute_result"
    }
   ],
   "source": [
    "X.dtypes"
   ]
  },
  {
   "cell_type": "code",
   "execution_count": 0,
   "metadata": {
    "colab": {},
    "colab_type": "code",
    "id": "7_jI4otgRFtY"
   },
   "outputs": [],
   "source": [
    "X.to_csv('hey.csv')"
   ]
  },
  {
   "cell_type": "code",
   "execution_count": 0,
   "metadata": {
    "colab": {
     "base_uri": "https://localhost:8080/",
     "height": 34
    },
    "colab_type": "code",
    "id": "ykbNHyIUFtxB",
    "outputId": "5ebf86d6-7b39-4f24-e1dd-5a465b13c125"
   },
   "outputs": [
    {
     "data": {
      "text/plain": [
       "(45222, 103)"
      ]
     },
     "execution_count": 221,
     "metadata": {
      "tags": []
     },
     "output_type": "execute_result"
    }
   ],
   "source": [
    "X_new = SelectKBest(chi2, k=103).fit_transform(X, y)\n",
    "X_new.shape"
   ]
  },
  {
   "cell_type": "code",
   "execution_count": 0,
   "metadata": {
    "colab": {},
    "colab_type": "code",
    "id": "_5I0FCC1dNZQ"
   },
   "outputs": [],
   "source": [
    "X_train, X_test, y_train, y_test = train_test_split(X_new, y, test_size = 0.3, random_state = 100)"
   ]
  },
  {
   "cell_type": "code",
   "execution_count": 0,
   "metadata": {
    "colab": {
     "base_uri": "https://localhost:8080/",
     "height": 88
    },
    "colab_type": "code",
    "id": "ZyryF3s6fshV",
    "outputId": "19f7f2eb-e0cb-416b-df61-f78559b9556c"
   },
   "outputs": [
    {
     "name": "stderr",
     "output_type": "stream",
     "text": [
      "/usr/local/lib/python3.6/dist-packages/sklearn/linear_model/logistic.py:432: FutureWarning: Default solver will be changed to 'lbfgs' in 0.22. Specify a solver to silence this warning.\n",
      "  FutureWarning)\n"
     ]
    },
    {
     "data": {
      "text/plain": [
       "0.8444755657109162"
      ]
     },
     "execution_count": 209,
     "metadata": {
      "tags": []
     },
     "output_type": "execute_result"
    }
   ],
   "source": [
    "# initialize model\n",
    "log_reg = LogisticRegression()\n",
    "\n",
    "# fit model\n",
    "log_reg.fit(X_train, y_train)\n",
    "\n",
    "# metrics (accuracy)\n",
    "acc = log_reg.score(X_test, y_test)\n",
    "\n",
    "# predictions\n",
    "y_pred = log_reg.predict(X_test)\n",
    "\n",
    "acc"
   ]
  },
  {
   "cell_type": "code",
   "execution_count": 0,
   "metadata": {
    "colab": {},
    "colab_type": "code",
    "id": "6jMolHJqCb2g"
   },
   "outputs": [],
   "source": [
    "from sklearn.metrics import classification_report"
   ]
  },
  {
   "cell_type": "code",
   "execution_count": 0,
   "metadata": {
    "colab": {
     "base_uri": "https://localhost:8080/",
     "height": 170
    },
    "colab_type": "code",
    "id": "xqaADsndCgKj",
    "outputId": "d8a701c3-f50b-48b7-cc6d-94301d3847a3"
   },
   "outputs": [
    {
     "name": "stdout",
     "output_type": "stream",
     "text": [
      "              precision    recall  f1-score   support\n",
      "\n",
      "       <=50K       0.87      0.93      0.90     10211\n",
      "        >50K       0.74      0.58      0.65      3356\n",
      "\n",
      "    accuracy                           0.84     13567\n",
      "   macro avg       0.80      0.76      0.77     13567\n",
      "weighted avg       0.84      0.84      0.84     13567\n",
      "\n"
     ]
    }
   ],
   "source": [
    "print(classification_report(y_test, y_pred))"
   ]
  },
  {
   "cell_type": "code",
   "execution_count": 0,
   "metadata": {
    "colab": {
     "base_uri": "https://localhost:8080/",
     "height": 170
    },
    "colab_type": "code",
    "id": "i_p-ksUui1Ch",
    "outputId": "f733827f-7f22-4b39-8e32-d630ff3db9b2"
   },
   "outputs": [
    {
     "name": "stdout",
     "output_type": "stream",
     "text": [
      "              precision    recall  f1-score   support\n",
      "\n",
      "       <=50K       0.87      0.95      0.91     10211\n",
      "        >50K       0.78      0.56      0.65      3356\n",
      "\n",
      "    accuracy                           0.85     13567\n",
      "   macro avg       0.82      0.76      0.78     13567\n",
      "weighted avg       0.85      0.85      0.84     13567\n",
      "\n"
     ]
    }
   ],
   "source": [
    "# initialize model\n",
    "xgboost = XGBClassifier()\n",
    "\n",
    "# fit model\n",
    "xgboost.fit(X_train, y_train)\n",
    "\n",
    "# metrics (accuracy)\n",
    "#acc = log_reg.score(X_test, y_test)\n",
    "\n",
    "# predictions\n",
    "y_pred = xgboost.predict(X_test)\n",
    "\n",
    "print(classification_report(y_test, y_pred))\n"
   ]
  },
  {
   "cell_type": "code",
   "execution_count": 0,
   "metadata": {
    "colab": {
     "base_uri": "https://localhost:8080/",
     "height": 34
    },
    "colab_type": "code",
    "id": "iAzbCkejFl7z",
    "outputId": "1169f14c-c883-49c1-f76c-89f94bb09dd3"
   },
   "outputs": [
    {
     "data": {
      "text/plain": [
       "0.8444755657109162"
      ]
     },
     "execution_count": 213,
     "metadata": {
      "tags": []
     },
     "output_type": "execute_result"
    }
   ],
   "source": [
    "acc"
   ]
  }
 ],
 "metadata": {
  "colab": {
   "collapsed_sections": [],
   "name": "Annual  Income Prediction - kbest/logreg/xgboost.ipynb",
   "provenance": [],
   "toc_visible": true
  },
  "kernelspec": {
   "display_name": "Python 3",
   "language": "python",
   "name": "python3"
  },
  "language_info": {
   "codemirror_mode": {
    "name": "ipython",
    "version": 3
   },
   "file_extension": ".py",
   "mimetype": "text/x-python",
   "name": "python",
   "nbconvert_exporter": "python",
   "pygments_lexer": "ipython3",
   "version": "3.7.4"
  }
 },
 "nbformat": 4,
 "nbformat_minor": 1
}
